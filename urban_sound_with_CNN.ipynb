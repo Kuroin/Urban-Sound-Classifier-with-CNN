{
  "cells": [
    {
      "cell_type": "markdown",
      "metadata": {
        "id": "view-in-github",
        "colab_type": "text"
      },
      "source": [
        "<a href=\"https://colab.research.google.com/github/Kuroin/Urban-Sound-Classifier-with-CNN/blob/main/urban_sound_with_CNN.ipynb\" target=\"_parent\"><img src=\"https://colab.research.google.com/assets/colab-badge.svg\" alt=\"Open In Colab\"/></a>"
      ]
    },
    {
      "cell_type": "code",
      "execution_count": 1,
      "metadata": {
        "id": "CobztsPj5RIu"
      },
      "outputs": [],
      "source": [
        "from tensorflow.keras.layers import Conv2D, MaxPooling2D, Dropout, Dense, Flatten\n",
        "from tensorflow.keras import Sequential\n",
        "import pickle\n",
        "import numpy as np\n",
        "import matplotlib.pyplot as plt\n",
        "from glob import glob\n",
        "import cv2"
      ]
    },
    {
      "cell_type": "code",
      "execution_count": 2,
      "metadata": {
        "id": "MlsB3_g66YmO"
      },
      "outputs": [],
      "source": [
        "with open(\"/content/drive/MyDrive/dataset/X_train.data\", 'rb') as f:\n",
        "    X_train = pickle.load(f)\n",
        "\n",
        "with open(\"/content/drive/MyDrive/dataset/X_test.data\", 'rb') as f:\n",
        "    X_test = pickle.load(f)\n",
        "\n",
        "with open(\"/content/drive/MyDrive/dataset/y_train.data\", 'rb') as f:\n",
        "    y_train = pickle.load(f)\n",
        "\n",
        "with open(\"/content/drive/MyDrive/dataset/y_test.data\", 'rb') as f:\n",
        "    y_test = pickle.load(f)\n",
        "\n",
        "with open(\"/content/drive/MyDrive/dataset/X_val.data\", 'rb') as f:\n",
        "    X_val = pickle.load(f)\n",
        "\n",
        "with open(\"/content/drive/MyDrive/dataset/y_val.data\", 'rb') as f:\n",
        "    y_val = pickle.load(f)\n"
      ]
    },
    {
      "cell_type": "code",
      "execution_count": 3,
      "metadata": {
        "id": "aVuHmSbSS9_l"
      },
      "outputs": [],
      "source": [
        "classes = {\n",
        "    0 : \"Air Conditier\",\n",
        "    1 : \"Car Horn\",\n",
        "    2 : \"Children Playing\",\n",
        "    3 : \"Dog Bark\",\n",
        "    4 : \"Drilling\",\n",
        "    5 : \"Engine Idling\",\n",
        "    6 : \"Gun Shot\",\n",
        "    7 : \"Jackhammer\",\n",
        "    8 : \"Siren\",\n",
        "    9 : \"Street Music\"\n",
        "}"
      ]
    },
    {
      "cell_type": "code",
      "execution_count": 4,
      "metadata": {
        "colab": {
          "base_uri": "https://localhost:8080/"
        },
        "id": "Yd-mM8GT3TJE",
        "outputId": "18d4cc9d-f008-4ac3-8259-32357711049a"
      },
      "outputs": [
        {
          "output_type": "execute_result",
          "data": {
            "text/plain": [
              "(1311, 128, 128)"
            ]
          },
          "metadata": {},
          "execution_count": 4
        }
      ],
      "source": [
        "X_train = np.array(X_train)\n",
        "X_test = np.array(X_test)\n",
        "X_val = np.array(X_val)\n",
        "X_test.shape"
      ]
    },
    {
      "cell_type": "code",
      "execution_count": 5,
      "metadata": {
        "id": "gk-8gtvp3HZK"
      },
      "outputs": [],
      "source": [
        "y_train = list(map(int, y_train))\n",
        "y_test = list(map(int, y_test))\n",
        "y_val = list(map(int, y_val))\n",
        "\n",
        "y_train = np.array(y_train)\n",
        "y_test = np.array(y_test)\n",
        "y_val = np.array(y_val)\n"
      ]
    },
    {
      "cell_type": "code",
      "execution_count": 6,
      "metadata": {
        "id": "WjnI8z8__gmz"
      },
      "outputs": [],
      "source": [
        "model = Sequential()"
      ]
    },
    {
      "cell_type": "code",
      "execution_count": 7,
      "metadata": {
        "id": "7bcXWJRuS3hp"
      },
      "outputs": [],
      "source": [
        "model.add(Conv2D(\n",
        "    32,\n",
        "    kernel_size=(3,3),\n",
        "    strides=(1,1),\n",
        "    padding=\"same\",\n",
        "    activation=\"relu\",\n",
        "    input_shape=(128,128,1)\n",
        "))\n",
        "model.add(MaxPooling2D(2,2))\n",
        "\n",
        "model.add(Conv2D(\n",
        "    64,\n",
        "    kernel_size=(3,3),\n",
        "    strides=(1,1),\n",
        "    padding=\"same\",\n",
        "    activation=\"relu\",\n",
        "))\n",
        "model.add(MaxPooling2D(2,2))\n",
        "\n",
        "model.add(Conv2D(\n",
        "    128,\n",
        "    kernel_size=(3,3),\n",
        "    strides=(1,1),\n",
        "    padding=\"same\",\n",
        "    activation=\"relu\",\n",
        "))\n",
        "model.add(MaxPooling2D(2,2))\n",
        "model.add(Flatten())\n",
        "\n",
        "model.add(Dense(64,activation=\"relu\"))\n",
        "model.add(Dropout(0.5))\n",
        "\n",
        "model.add(Dense(64,activation=\"relu\"))\n",
        "model.add(Dropout(0.5))\n",
        "\n",
        "model.add(Dense(10,activation=\"softmax\"))"
      ]
    },
    {
      "cell_type": "code",
      "execution_count": 8,
      "metadata": {
        "id": "hL-f0qtyVduk"
      },
      "outputs": [],
      "source": [
        "model.compile(\n",
        "    optimizer=\"adam\",\n",
        "    loss=\"sparse_categorical_crossentropy\",\n",
        "    metrics=[\"accuracy\"]\n",
        ")"
      ]
    },
    {
      "cell_type": "code",
      "execution_count": 9,
      "metadata": {
        "colab": {
          "base_uri": "https://localhost:8080/"
        },
        "id": "zZrggnk-VyOK",
        "outputId": "8fdb4d80-90d4-4295-b1d8-791ee54bb8b9"
      },
      "outputs": [
        {
          "output_type": "stream",
          "name": "stdout",
          "text": [
            "Epoch 1/50\n",
            "12/12 [==============================] - 21s 577ms/step - loss: 2.1245 - accuracy: 0.2119 - val_loss: 1.5767 - val_accuracy: 0.7193\n",
            "Epoch 2/50\n",
            "12/12 [==============================] - 3s 267ms/step - loss: 1.8141 - accuracy: 0.3391 - val_loss: 1.2068 - val_accuracy: 0.7025\n",
            "Epoch 3/50\n",
            "12/12 [==============================] - 3s 266ms/step - loss: 1.6071 - accuracy: 0.3923 - val_loss: 1.1344 - val_accuracy: 0.6362\n",
            "Epoch 4/50\n",
            "12/12 [==============================] - 3s 267ms/step - loss: 1.4722 - accuracy: 0.4412 - val_loss: 1.0855 - val_accuracy: 0.5950\n",
            "Epoch 5/50\n",
            "12/12 [==============================] - 3s 269ms/step - loss: 1.3448 - accuracy: 0.4895 - val_loss: 1.0570 - val_accuracy: 0.6476\n",
            "Epoch 6/50\n",
            "12/12 [==============================] - 3s 271ms/step - loss: 1.2604 - accuracy: 0.5237 - val_loss: 0.9622 - val_accuracy: 0.6735\n",
            "Epoch 7/50\n",
            "12/12 [==============================] - 3s 270ms/step - loss: 1.1542 - accuracy: 0.5645 - val_loss: 0.9276 - val_accuracy: 0.6369\n",
            "Epoch 8/50\n",
            "12/12 [==============================] - 3s 272ms/step - loss: 1.0622 - accuracy: 0.6003 - val_loss: 0.7864 - val_accuracy: 0.7704\n",
            "Epoch 9/50\n",
            "12/12 [==============================] - 3s 273ms/step - loss: 0.9930 - accuracy: 0.6342 - val_loss: 0.6843 - val_accuracy: 0.8566\n",
            "Epoch 10/50\n",
            "12/12 [==============================] - 3s 273ms/step - loss: 0.9235 - accuracy: 0.6599 - val_loss: 0.7171 - val_accuracy: 0.8032\n",
            "Epoch 11/50\n",
            "12/12 [==============================] - 3s 277ms/step - loss: 0.8441 - accuracy: 0.6915 - val_loss: 0.5907 - val_accuracy: 0.8337\n",
            "Epoch 12/50\n",
            "12/12 [==============================] - 3s 277ms/step - loss: 0.7727 - accuracy: 0.7173 - val_loss: 0.5285 - val_accuracy: 0.8665\n",
            "Epoch 13/50\n",
            "12/12 [==============================] - 3s 275ms/step - loss: 0.7406 - accuracy: 0.7324 - val_loss: 0.6771 - val_accuracy: 0.7674\n",
            "Epoch 14/50\n",
            "12/12 [==============================] - 3s 276ms/step - loss: 0.7133 - accuracy: 0.7484 - val_loss: 0.4697 - val_accuracy: 0.8879\n",
            "Epoch 15/50\n",
            "12/12 [==============================] - 3s 277ms/step - loss: 0.6576 - accuracy: 0.7651 - val_loss: 0.4325 - val_accuracy: 0.8955\n",
            "Epoch 16/50\n",
            "12/12 [==============================] - 3s 277ms/step - loss: 0.6314 - accuracy: 0.7799 - val_loss: 0.4225 - val_accuracy: 0.8757\n",
            "Epoch 17/50\n",
            "12/12 [==============================] - 3s 278ms/step - loss: 0.5768 - accuracy: 0.7993 - val_loss: 0.3450 - val_accuracy: 0.9123\n",
            "Epoch 18/50\n",
            "12/12 [==============================] - 3s 278ms/step - loss: 0.5416 - accuracy: 0.8108 - val_loss: 0.3652 - val_accuracy: 0.9039\n",
            "Epoch 19/50\n",
            "12/12 [==============================] - 3s 278ms/step - loss: 0.5245 - accuracy: 0.8170 - val_loss: 0.1956 - val_accuracy: 0.9542\n",
            "Epoch 20/50\n",
            "12/12 [==============================] - 3s 277ms/step - loss: 0.5057 - accuracy: 0.8242 - val_loss: 0.2778 - val_accuracy: 0.9306\n",
            "Epoch 21/50\n",
            "12/12 [==============================] - 3s 277ms/step - loss: 0.4761 - accuracy: 0.8390 - val_loss: 0.3256 - val_accuracy: 0.9108\n",
            "Epoch 22/50\n",
            "12/12 [==============================] - 3s 277ms/step - loss: 0.4444 - accuracy: 0.8440 - val_loss: 0.2659 - val_accuracy: 0.9420\n",
            "Epoch 23/50\n",
            "12/12 [==============================] - 3s 278ms/step - loss: 0.4027 - accuracy: 0.8583 - val_loss: 0.1482 - val_accuracy: 0.9603\n",
            "Epoch 24/50\n",
            "12/12 [==============================] - 3s 277ms/step - loss: 0.3773 - accuracy: 0.8714 - val_loss: 0.1482 - val_accuracy: 0.9680\n",
            "Epoch 25/50\n",
            "12/12 [==============================] - 3s 277ms/step - loss: 0.3655 - accuracy: 0.8751 - val_loss: 0.1591 - val_accuracy: 0.9603\n",
            "Epoch 26/50\n",
            "12/12 [==============================] - 3s 276ms/step - loss: 0.3478 - accuracy: 0.8759 - val_loss: 0.1002 - val_accuracy: 0.9703\n",
            "Epoch 27/50\n",
            "12/12 [==============================] - 3s 277ms/step - loss: 0.3235 - accuracy: 0.8881 - val_loss: 0.1078 - val_accuracy: 0.9695\n",
            "Epoch 28/50\n",
            "12/12 [==============================] - 3s 276ms/step - loss: 0.3141 - accuracy: 0.8867 - val_loss: 0.0942 - val_accuracy: 0.9718\n",
            "Epoch 29/50\n",
            "12/12 [==============================] - 3s 276ms/step - loss: 0.3025 - accuracy: 0.8964 - val_loss: 0.1363 - val_accuracy: 0.9596\n",
            "Epoch 30/50\n",
            "12/12 [==============================] - 3s 276ms/step - loss: 0.3029 - accuracy: 0.8900 - val_loss: 0.0638 - val_accuracy: 0.9893\n",
            "Epoch 31/50\n",
            "12/12 [==============================] - 3s 276ms/step - loss: 0.2804 - accuracy: 0.8977 - val_loss: 0.1338 - val_accuracy: 0.9542\n",
            "Epoch 32/50\n",
            "12/12 [==============================] - 3s 276ms/step - loss: 0.2625 - accuracy: 0.9106 - val_loss: 0.0694 - val_accuracy: 0.9817\n",
            "Epoch 33/50\n",
            "12/12 [==============================] - 3s 276ms/step - loss: 0.2511 - accuracy: 0.9105 - val_loss: 0.0608 - val_accuracy: 0.9840\n",
            "Epoch 34/50\n",
            "12/12 [==============================] - 3s 275ms/step - loss: 0.2418 - accuracy: 0.9128 - val_loss: 0.0896 - val_accuracy: 0.9672\n",
            "Epoch 35/50\n",
            "12/12 [==============================] - 3s 276ms/step - loss: 0.2478 - accuracy: 0.9149 - val_loss: 0.0504 - val_accuracy: 0.9931\n",
            "Epoch 36/50\n",
            "12/12 [==============================] - 3s 276ms/step - loss: 0.2216 - accuracy: 0.9208 - val_loss: 0.0487 - val_accuracy: 0.9916\n",
            "Epoch 37/50\n",
            "12/12 [==============================] - 3s 276ms/step - loss: 0.2229 - accuracy: 0.9160 - val_loss: 0.0525 - val_accuracy: 0.9840\n",
            "Epoch 38/50\n",
            "12/12 [==============================] - 3s 277ms/step - loss: 0.2249 - accuracy: 0.9187 - val_loss: 0.0574 - val_accuracy: 0.9916\n",
            "Epoch 39/50\n",
            "12/12 [==============================] - 3s 277ms/step - loss: 0.2146 - accuracy: 0.9247 - val_loss: 0.0351 - val_accuracy: 0.9939\n",
            "Epoch 40/50\n",
            "12/12 [==============================] - 3s 277ms/step - loss: 0.1980 - accuracy: 0.9301 - val_loss: 0.0348 - val_accuracy: 0.9962\n",
            "Epoch 41/50\n",
            "12/12 [==============================] - 3s 277ms/step - loss: 0.1858 - accuracy: 0.9303 - val_loss: 0.0279 - val_accuracy: 0.9962\n",
            "Epoch 42/50\n",
            "12/12 [==============================] - 3s 276ms/step - loss: 0.1758 - accuracy: 0.9370 - val_loss: 0.0282 - val_accuracy: 0.9962\n",
            "Epoch 43/50\n",
            "12/12 [==============================] - 3s 276ms/step - loss: 0.1692 - accuracy: 0.9437 - val_loss: 0.0180 - val_accuracy: 0.9985\n",
            "Epoch 44/50\n",
            "12/12 [==============================] - 3s 276ms/step - loss: 0.1634 - accuracy: 0.9429 - val_loss: 0.0316 - val_accuracy: 0.9954\n",
            "Epoch 45/50\n",
            "12/12 [==============================] - 3s 278ms/step - loss: 0.1642 - accuracy: 0.9412 - val_loss: 0.0195 - val_accuracy: 0.9962\n",
            "Epoch 46/50\n",
            "12/12 [==============================] - 3s 277ms/step - loss: 0.1655 - accuracy: 0.9396 - val_loss: 0.0169 - val_accuracy: 0.9985\n",
            "Epoch 47/50\n",
            "12/12 [==============================] - 3s 277ms/step - loss: 0.1592 - accuracy: 0.9435 - val_loss: 0.0279 - val_accuracy: 0.9954\n",
            "Epoch 48/50\n",
            "12/12 [==============================] - 3s 277ms/step - loss: 0.1603 - accuracy: 0.9422 - val_loss: 0.0147 - val_accuracy: 0.9985\n",
            "Epoch 49/50\n",
            "12/12 [==============================] - 3s 277ms/step - loss: 0.1546 - accuracy: 0.9411 - val_loss: 0.0255 - val_accuracy: 0.9947\n",
            "Epoch 50/50\n",
            "12/12 [==============================] - 3s 275ms/step - loss: 0.1519 - accuracy: 0.9437 - val_loss: 0.0175 - val_accuracy: 0.9954\n"
          ]
        }
      ],
      "source": [
        "results = model.fit(\n",
        "    x=X_train,\n",
        "    y=y_train,\n",
        "    batch_size=512,\n",
        "    epochs=50,\n",
        "    validation_data=(X_val,y_val)\n",
        ")"
      ]
    },
    {
      "cell_type": "code",
      "execution_count": 10,
      "metadata": {
        "id": "miiOX532PBVq",
        "colab": {
          "base_uri": "https://localhost:8080/",
          "height": 279
        },
        "outputId": "c2ccf0bf-39f4-4ea5-8c55-f1025b1c8074"
      },
      "outputs": [
        {
          "output_type": "display_data",
          "data": {
            "text/plain": [
              "<Figure size 432x288 with 1 Axes>"
            ],
            "image/png": "[encoded data removed]"
          },
          "metadata": {
            "needs_background": "light"
          }
        }
      ],
      "source": [
        "plt.plot(results.history[\"loss\"], label=\"loss\")\n",
        "plt.plot(results.history[\"val_loss\"], label=\"val_loss\")\n",
        "\n",
        "plt.xlabel(\"Epoch\")\n",
        "plt.ylabel(\"Loss\")\n",
        "\n",
        "plt.legend()\n",
        "\n",
        "plt.show()"
      ]
    },
    {
      "cell_type": "code",
      "execution_count": 11,
      "metadata": {
        "id": "vMET182fPaJZ",
        "colab": {
          "base_uri": "https://localhost:8080/",
          "height": 279
        },
        "outputId": "968d7b18-1e0d-44e8-ee5a-9d0d55011df9"
      },
      "outputs": [
        {
          "output_type": "display_data",
          "data": {
            "text/plain": [
              "<Figure size 432x288 with 1 Axes>"
            ],
            "image/png": "[encoded data removed]"
          },
          "metadata": {
            "needs_background": "light"
          }
        }
      ],
      "source": [
        "plt.plot(results.history[\"accuracy\"], label=\"Accuracy\")\n",
        "\n",
        "plt.plot(results.history[\"val_accuracy\"], label=\"Val_accuracy\")\n",
        "\n",
        "plt.xlabel(\"Epoch\")\n",
        "plt.ylabel(\"Accuracy\")\n",
        "\n",
        "plt.legend()\n",
        "\n",
        "plt.show()"
      ]
    },
    {
      "cell_type": "code",
      "execution_count": 12,
      "metadata": {
        "id": "Xcywjqp0Pl5U",
        "colab": {
          "base_uri": "https://localhost:8080/"
        },
        "outputId": "bbe04d17-c89b-4be3-ca66-763e83478166"
      },
      "outputs": [
        {
          "output_type": "stream",
          "name": "stdout",
          "text": [
            "41/41 [==============================] - 1s 12ms/step - loss: 0.0175 - accuracy: 0.9954\n"
          ]
        },
        {
          "output_type": "execute_result",
          "data": {
            "text/plain": [
              "[0.01747894659638405, 0.9954233169555664]"
            ]
          },
          "metadata": {},
          "execution_count": 12
        }
      ],
      "source": [
        "model.evaluate(X_test, y_test)"
      ]
    },
    {
      "cell_type": "code",
      "execution_count": 13,
      "metadata": {
        "id": "ozB4fxFvQE7P",
        "colab": {
          "base_uri": "https://localhost:8080/"
        },
        "outputId": "6599ae04-8224-4149-fc81-050dea430a83"
      },
      "outputs": [
        {
          "output_type": "stream",
          "name": "stdout",
          "text": [
            "This image belongs to class Drilling with 0.9934729933738708 probability %\n"
          ]
        }
      ],
      "source": [
        "path=glob(\"/content/drive/MyDrive/spectrograms/9/*.png\")\n",
        "\n",
        "image=cv2.imread(path[16])\n",
        "gray= cv2.cvtColor(image, cv2.COLOR_BGR2GRAY)\n",
        "resized_img = cv2.resize(gray,(128,128))\n",
        "normalized_img=resized_img/255\n",
        "\n",
        "prediction_result = model.predict(normalized_img.reshape(1,128,128))\n",
        "\n",
        "predicted_class = classes[prediction_result.argmax()]\n",
        "predicted_probability = prediction_result.max()\n",
        "print(f\"This image belongs to class {predicted_class} with {predicted_probability} probability %\")"
      ]
    },
    {
      "cell_type": "code",
      "execution_count": 13,
      "metadata": {
        "id": "jZjqGVjzsqla"
      },
      "outputs": [],
      "source": []
    }
  ],
  "metadata": {
    "accelerator": "GPU",
    "colab": {
      "collapsed_sections": [],
      "provenance": [],
      "mount_file_id": "1B44x_a-8keJmHHYInpOxjOa5hx9NbGVw",
      "authorship_tag": "ABX9TyMGB2iU6K4ptN6sZL6xnUt5",
      "include_colab_link": true
    },
    "kernelspec": {
      "display_name": "Python 3",
      "name": "python3"
    },
    "language_info": {
      "name": "python"
    }
  },
  "nbformat": 4,
  "nbformat_minor": 0
}