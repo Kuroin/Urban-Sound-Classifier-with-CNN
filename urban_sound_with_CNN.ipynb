{
  "cells": [
    {
      "cell_type": "markdown",
      "metadata": {
        "id": "view-in-github",
        "colab_type": "text"
      },
      "source": [
        "<a href=\"https://colab.research.google.com/github/Kuroin/Urban-Sound-Classifier-with-CNN/blob/main/urban_sound_with_CNN.ipynb\" target=\"_parent\"><img src=\"https://colab.research.google.com/assets/colab-badge.svg\" alt=\"Open In Colab\"/></a>"
      ]
    },
    {
      "cell_type": "code",
      "execution_count": null,
      "metadata": {
        "id": "CobztsPj5RIu"
      },
      "outputs": [],
      "source": [
        "from tensorflow.keras.layers import Conv2D, MaxPooling2D, Dropout, Dense, Flatten\n",
        "from tensorflow.keras import Sequential\n",
        "import pickle\n",
        "import numpy as np\n",
        "import matplotlib.pyplot as plt\n",
        "from glob import glob\n",
        "import cv2\n"
      ]
    },
    {
      "cell_type": "code",
      "execution_count": null,
      "metadata": {
        "id": "MlsB3_g66YmO"
      },
      "outputs": [],
      "source": [
        "with open(\"/content/drive/MyDrive/dataset/X_train.data\", 'rb') as f:\n",
        "    X_train = pickle.load(f)\n",
        "\n",
        "with open(\"/content/drive/MyDrive/dataset/X_test.data\", 'rb') as f:\n",
        "    X_test = pickle.load(f)\n",
        "\n",
        "with open(\"/content/drive/MyDrive/dataset/y_train.data\", 'rb') as f:\n",
        "    y_train = pickle.load(f)\n",
        "\n",
        "with open(\"/content/drive/MyDrive/dataset/y_test.data\", 'rb') as f:\n",
        "    y_test = pickle.load(f)\n",
        "\n",
        "with open(\"/content/drive/MyDrive/dataset/X_val.data\", 'rb') as f:\n",
        "    X_val = pickle.load(f)\n",
        "\n",
        "with open(\"/content/drive/MyDrive/dataset/y_val.data\", 'rb') as f:\n",
        "    y_val = pickle.load(f)\n"
      ]
    },
    {
      "cell_type": "code",
      "execution_count": null,
      "metadata": {
        "id": "aVuHmSbSS9_l"
      },
      "outputs": [],
      "source": [
        "classes = {\n",
        "    0 : \"Air Conditier\",\n",
        "    1 : \"Car Horn\",\n",
        "    2 : \"Children Playing\",\n",
        "    3 : \"Dog Bark\",\n",
        "    4 : \"Drilling\",\n",
        "    5 : \"Engine Idling\",\n",
        "    6 : \"Gun Shot\",\n",
        "    7 : \"Jackhammer\",\n",
        "    8 : \"Siren\",\n",
        "    9 : \"Street Music\"\n",
        "}"
      ]
    },
    {
      "cell_type": "code",
      "execution_count": null,
      "metadata": {
        "colab": {
          "base_uri": "https://localhost:8080/"
        },
        "id": "Yd-mM8GT3TJE",
        "outputId": "2fe2b140-e878-4c80-c142-3ae5002248cc"
      },
      "outputs": [
        {
          "output_type": "execute_result",
          "data": {
            "text/plain": [
              "(1311, 128, 128)"
            ]
          },
          "metadata": {},
          "execution_count": 4
        }
      ],
      "source": [
        "X_train = np.array(X_train)\n",
        "X_test = np.array(X_test)\n",
        "X_val = np.array(X_val)\n",
        "X_test.shape"
      ]
    },
    {
      "cell_type": "code",
      "execution_count": null,
      "metadata": {
        "id": "gk-8gtvp3HZK"
      },
      "outputs": [],
      "source": [
        "y_train = list(map(int, y_train))\n",
        "y_test = list(map(int, y_test))\n",
        "y_val = list(map(int, y_val))\n",
        "\n",
        "y_train = np.array(y_train)\n",
        "y_test = np.array(y_test)\n",
        "y_val = np.array(y_val)\n"
      ]
    },
    {
      "cell_type": "code",
      "execution_count": null,
      "metadata": {
        "id": "WjnI8z8__gmz"
      },
      "outputs": [],
      "source": [
        "model = Sequential()"
      ]
    },
    {
      "cell_type": "code",
      "execution_count": null,
      "metadata": {
        "id": "7bcXWJRuS3hp"
      },
      "outputs": [],
      "source": [
        "model.add(Conv2D(\n",
        "    32,\n",
        "    kernel_size=(3,3),\n",
        "    strides=(1,1),\n",
        "    padding=\"same\",\n",
        "    activation=\"relu\",\n",
        "    input_shape=(128,128,1)\n",
        "))\n",
        "model.add(MaxPooling2D(2,2))\n",
        "\n",
        "model.add(Conv2D(\n",
        "    64,\n",
        "    kernel_size=(3,3),\n",
        "    strides=(1,1),\n",
        "    padding=\"same\",\n",
        "    activation=\"relu\",\n",
        "))\n",
        "model.add(MaxPooling2D(2,2))\n",
        "\n",
        "model.add(Conv2D(\n",
        "    128,\n",
        "    kernel_size=(3,3),\n",
        "    strides=(1,1),\n",
        "    padding=\"same\",\n",
        "    activation=\"relu\",\n",
        "))\n",
        "model.add(MaxPooling2D(2,2))\n",
        "\n",
        "model.add(Conv2D(\n",
        "    128,\n",
        "    kernel_size=(3,3),\n",
        "    strides=(1,1),\n",
        "    padding=\"same\",\n",
        "    activation=\"relu\",\n",
        "))\n",
        "model.add(MaxPooling2D(2,2))\n",
        "\n",
        "model.add(Flatten())\n",
        "\n",
        "model.add(Dense(64,activation=\"relu\"))\n",
        "model.add(Dropout(0.5))\n",
        "\n",
        "model.add(Dense(64,activation=\"relu\"))\n",
        "model.add(Dropout(0.5))\n",
        "\n",
        "model.add(Dense(10,activation=\"softmax\"))"
      ]
    },
    {
      "cell_type": "code",
      "execution_count": null,
      "metadata": {
        "id": "hL-f0qtyVduk"
      },
      "outputs": [],
      "source": [
        "model.compile(\n",
        "    optimizer=\"adam\",\n",
        "    loss=\"sparse_categorical_crossentropy\",\n",
        "    metrics=[\"accuracy\"]\n",
        ")"
      ]
    },
    {
      "cell_type": "code",
      "execution_count": null,
      "metadata": {
        "colab": {
          "base_uri": "https://localhost:8080/"
        },
        "id": "zZrggnk-VyOK",
        "outputId": "77cbe681-a208-48f5-9e72-67ff9df08292"
      },
      "outputs": [
        {
          "output_type": "stream",
          "name": "stdout",
          "text": [
            "Epoch 1/150\n",
            "191/191 [==============================] - 17s 26ms/step - loss: 1.7624 - accuracy: 0.3185 - val_loss: 1.3162 - val_accuracy: 0.4462\n",
            "Epoch 2/150\n",
            "191/191 [==============================] - 4s 21ms/step - loss: 1.2787 - accuracy: 0.4956 - val_loss: 0.8466 - val_accuracy: 0.7002\n",
            "Epoch 3/150\n",
            "191/191 [==============================] - 4s 21ms/step - loss: 1.0178 - accuracy: 0.6119 - val_loss: 0.7614 - val_accuracy: 0.7246\n",
            "Epoch 4/150\n",
            "191/191 [==============================] - 4s 21ms/step - loss: 0.8531 - accuracy: 0.6815 - val_loss: 0.5795 - val_accuracy: 0.8429\n",
            "Epoch 5/150\n",
            "191/191 [==============================] - 4s 21ms/step - loss: 0.7343 - accuracy: 0.7376 - val_loss: 0.4625 - val_accuracy: 0.9100\n",
            "Epoch 6/150\n",
            "191/191 [==============================] - 4s 23ms/step - loss: 0.6082 - accuracy: 0.7828 - val_loss: 0.3310 - val_accuracy: 0.9130\n",
            "Epoch 7/150\n",
            "191/191 [==============================] - 4s 22ms/step - loss: 0.5260 - accuracy: 0.8250 - val_loss: 0.2609 - val_accuracy: 0.9230\n",
            "Epoch 8/150\n",
            "191/191 [==============================] - 4s 22ms/step - loss: 0.4855 - accuracy: 0.8358 - val_loss: 0.2026 - val_accuracy: 0.9268\n",
            "Epoch 9/150\n",
            "191/191 [==============================] - 4s 22ms/step - loss: 0.3946 - accuracy: 0.8668 - val_loss: 0.1757 - val_accuracy: 0.9428\n",
            "Epoch 10/150\n",
            "191/191 [==============================] - 4s 22ms/step - loss: 0.3964 - accuracy: 0.8682 - val_loss: 0.1880 - val_accuracy: 0.9466\n",
            "Epoch 11/150\n",
            "191/191 [==============================] - 4s 22ms/step - loss: 0.3146 - accuracy: 0.8944 - val_loss: 0.0815 - val_accuracy: 0.9764\n",
            "Epoch 12/150\n",
            "191/191 [==============================] - 4s 22ms/step - loss: 0.2892 - accuracy: 0.8974 - val_loss: 0.0963 - val_accuracy: 0.9672\n",
            "Epoch 13/150\n",
            "191/191 [==============================] - 4s 22ms/step - loss: 0.2765 - accuracy: 0.9056 - val_loss: 0.0844 - val_accuracy: 0.9725\n",
            "Epoch 14/150\n",
            "191/191 [==============================] - 4s 23ms/step - loss: 0.2428 - accuracy: 0.9116 - val_loss: 0.1009 - val_accuracy: 0.9710\n",
            "Epoch 15/150\n",
            "191/191 [==============================] - 4s 22ms/step - loss: 0.2719 - accuracy: 0.9026 - val_loss: 0.0827 - val_accuracy: 0.9695\n",
            "Epoch 16/150\n",
            "191/191 [==============================] - 4s 22ms/step - loss: 0.2412 - accuracy: 0.9146 - val_loss: 0.0812 - val_accuracy: 0.9764\n",
            "Epoch 17/150\n",
            "191/191 [==============================] - 4s 22ms/step - loss: 0.2051 - accuracy: 0.9237 - val_loss: 0.0437 - val_accuracy: 0.9908\n",
            "Epoch 18/150\n",
            "191/191 [==============================] - 5s 24ms/step - loss: 0.1992 - accuracy: 0.9303 - val_loss: 0.0419 - val_accuracy: 0.9878\n",
            "Epoch 19/150\n",
            "191/191 [==============================] - 4s 22ms/step - loss: 0.1994 - accuracy: 0.9304 - val_loss: 0.0739 - val_accuracy: 0.9817\n",
            "Epoch 20/150\n",
            "191/191 [==============================] - 4s 22ms/step - loss: 0.1886 - accuracy: 0.9329 - val_loss: 0.0357 - val_accuracy: 0.9908\n",
            "Epoch 21/150\n",
            "191/191 [==============================] - 4s 22ms/step - loss: 0.1726 - accuracy: 0.9406 - val_loss: 0.0375 - val_accuracy: 0.9886\n",
            "Epoch 22/150\n",
            "191/191 [==============================] - 4s 22ms/step - loss: 0.1533 - accuracy: 0.9424 - val_loss: 0.0303 - val_accuracy: 0.9916\n",
            "Epoch 23/150\n",
            "191/191 [==============================] - 4s 23ms/step - loss: 0.1927 - accuracy: 0.9360 - val_loss: 0.0363 - val_accuracy: 0.9908\n",
            "Epoch 24/150\n",
            "191/191 [==============================] - 4s 23ms/step - loss: 0.1695 - accuracy: 0.9386 - val_loss: 0.0191 - val_accuracy: 0.9939\n",
            "Epoch 25/150\n",
            "191/191 [==============================] - 4s 21ms/step - loss: 0.1346 - accuracy: 0.9522 - val_loss: 0.0165 - val_accuracy: 0.9947\n",
            "Epoch 26/150\n",
            "191/191 [==============================] - 4s 22ms/step - loss: 0.1419 - accuracy: 0.9509 - val_loss: 0.0308 - val_accuracy: 0.9962\n",
            "Epoch 27/150\n",
            "191/191 [==============================] - 4s 23ms/step - loss: 0.1371 - accuracy: 0.9512 - val_loss: 0.0173 - val_accuracy: 0.9969\n",
            "Epoch 28/150\n",
            "191/191 [==============================] - 4s 21ms/step - loss: 0.1525 - accuracy: 0.9488 - val_loss: 0.0129 - val_accuracy: 0.9962\n",
            "Epoch 29/150\n",
            "191/191 [==============================] - 4s 22ms/step - loss: 0.1297 - accuracy: 0.9538 - val_loss: 0.0197 - val_accuracy: 0.9939\n",
            "Epoch 30/150\n",
            "191/191 [==============================] - 4s 22ms/step - loss: 0.1211 - accuracy: 0.9586 - val_loss: 0.0217 - val_accuracy: 0.9939\n",
            "Epoch 31/150\n",
            "191/191 [==============================] - 4s 21ms/step - loss: 0.1432 - accuracy: 0.9491 - val_loss: 0.0295 - val_accuracy: 0.9908\n",
            "Epoch 32/150\n",
            "191/191 [==============================] - 4s 21ms/step - loss: 0.1534 - accuracy: 0.9516 - val_loss: 0.0363 - val_accuracy: 0.9863\n",
            "Epoch 33/150\n",
            "191/191 [==============================] - 4s 21ms/step - loss: 0.1204 - accuracy: 0.9607 - val_loss: 0.0299 - val_accuracy: 0.9893\n",
            "Epoch 34/150\n",
            "191/191 [==============================] - 4s 21ms/step - loss: 0.1108 - accuracy: 0.9607 - val_loss: 0.0034 - val_accuracy: 1.0000\n",
            "Epoch 35/150\n",
            "191/191 [==============================] - 4s 21ms/step - loss: 0.1113 - accuracy: 0.9607 - val_loss: 0.0037 - val_accuracy: 1.0000\n",
            "Epoch 36/150\n",
            "191/191 [==============================] - 4s 22ms/step - loss: 0.1097 - accuracy: 0.9622 - val_loss: 0.0076 - val_accuracy: 0.9985\n",
            "Epoch 37/150\n",
            "191/191 [==============================] - 4s 21ms/step - loss: 0.1113 - accuracy: 0.9635 - val_loss: 0.0163 - val_accuracy: 0.9962\n",
            "Epoch 38/150\n",
            "191/191 [==============================] - 4s 21ms/step - loss: 0.1033 - accuracy: 0.9637 - val_loss: 0.0055 - val_accuracy: 0.9985\n",
            "Epoch 39/150\n",
            "191/191 [==============================] - 4s 21ms/step - loss: 0.0964 - accuracy: 0.9682 - val_loss: 0.0078 - val_accuracy: 0.9977\n",
            "Epoch 40/150\n",
            "191/191 [==============================] - 4s 21ms/step - loss: 0.0982 - accuracy: 0.9661 - val_loss: 0.0030 - val_accuracy: 0.9992\n",
            "Epoch 41/150\n",
            "191/191 [==============================] - 4s 21ms/step - loss: 0.0928 - accuracy: 0.9661 - val_loss: 0.0529 - val_accuracy: 0.9794\n",
            "Epoch 42/150\n",
            "191/191 [==============================] - 4s 22ms/step - loss: 0.1062 - accuracy: 0.9655 - val_loss: 0.0033 - val_accuracy: 0.9992\n",
            "Epoch 43/150\n",
            "191/191 [==============================] - 4s 22ms/step - loss: 0.0879 - accuracy: 0.9689 - val_loss: 0.0033 - val_accuracy: 0.9992\n",
            "Epoch 44/150\n",
            "191/191 [==============================] - 4s 21ms/step - loss: 0.1286 - accuracy: 0.9570 - val_loss: 0.0029 - val_accuracy: 1.0000\n",
            "Epoch 45/150\n",
            "191/191 [==============================] - 4s 23ms/step - loss: 0.1204 - accuracy: 0.9594 - val_loss: 0.0213 - val_accuracy: 0.9924\n",
            "Epoch 46/150\n",
            "191/191 [==============================] - 4s 23ms/step - loss: 0.1164 - accuracy: 0.9627 - val_loss: 0.0040 - val_accuracy: 0.9985\n",
            "Epoch 47/150\n",
            "191/191 [==============================] - 4s 21ms/step - loss: 0.0833 - accuracy: 0.9733 - val_loss: 0.0011 - val_accuracy: 1.0000\n",
            "Epoch 48/150\n",
            "191/191 [==============================] - 4s 22ms/step - loss: 0.0916 - accuracy: 0.9692 - val_loss: 0.0013 - val_accuracy: 1.0000\n",
            "Epoch 49/150\n",
            "191/191 [==============================] - 4s 23ms/step - loss: 0.0976 - accuracy: 0.9664 - val_loss: 0.0281 - val_accuracy: 0.9908\n",
            "Epoch 50/150\n",
            "191/191 [==============================] - 4s 21ms/step - loss: 0.0881 - accuracy: 0.9707 - val_loss: 0.0149 - val_accuracy: 0.9954\n",
            "Epoch 51/150\n",
            "191/191 [==============================] - 4s 23ms/step - loss: 0.0815 - accuracy: 0.9709 - val_loss: 0.0114 - val_accuracy: 0.9962\n",
            "Epoch 52/150\n",
            "191/191 [==============================] - 4s 21ms/step - loss: 0.1073 - accuracy: 0.9642 - val_loss: 0.0010 - val_accuracy: 1.0000\n",
            "Epoch 53/150\n",
            "191/191 [==============================] - 4s 21ms/step - loss: 0.0678 - accuracy: 0.9773 - val_loss: 0.0583 - val_accuracy: 0.9878\n",
            "Epoch 54/150\n",
            "191/191 [==============================] - 4s 22ms/step - loss: 0.0834 - accuracy: 0.9743 - val_loss: 8.9413e-04 - val_accuracy: 1.0000\n",
            "Epoch 55/150\n",
            "191/191 [==============================] - 4s 23ms/step - loss: 0.0869 - accuracy: 0.9717 - val_loss: 0.0032 - val_accuracy: 0.9992\n",
            "Epoch 56/150\n",
            "191/191 [==============================] - 4s 21ms/step - loss: 0.0679 - accuracy: 0.9786 - val_loss: 0.0043 - val_accuracy: 0.9977\n",
            "Epoch 57/150\n",
            "191/191 [==============================] - 4s 21ms/step - loss: 0.0822 - accuracy: 0.9727 - val_loss: 0.0062 - val_accuracy: 0.9977\n",
            "Epoch 58/150\n",
            "191/191 [==============================] - 4s 23ms/step - loss: 0.0808 - accuracy: 0.9736 - val_loss: 5.5919e-04 - val_accuracy: 1.0000\n",
            "Epoch 59/150\n",
            "191/191 [==============================] - 4s 21ms/step - loss: 0.0643 - accuracy: 0.9769 - val_loss: 0.0020 - val_accuracy: 0.9985\n",
            "Epoch 60/150\n",
            "191/191 [==============================] - 4s 23ms/step - loss: 0.0635 - accuracy: 0.9774 - val_loss: 0.0144 - val_accuracy: 0.9931\n",
            "Epoch 61/150\n",
            "191/191 [==============================] - 4s 21ms/step - loss: 0.1064 - accuracy: 0.9666 - val_loss: 0.1748 - val_accuracy: 0.9664\n",
            "Epoch 62/150\n",
            "191/191 [==============================] - 4s 23ms/step - loss: 0.0807 - accuracy: 0.9714 - val_loss: 1.9385e-04 - val_accuracy: 1.0000\n",
            "Epoch 63/150\n",
            "191/191 [==============================] - 4s 21ms/step - loss: 0.0738 - accuracy: 0.9707 - val_loss: 0.0090 - val_accuracy: 0.9969\n",
            "Epoch 64/150\n",
            "191/191 [==============================] - 4s 21ms/step - loss: 0.0709 - accuracy: 0.9745 - val_loss: 0.0160 - val_accuracy: 0.9947\n",
            "Epoch 65/150\n",
            "191/191 [==============================] - 4s 21ms/step - loss: 0.0655 - accuracy: 0.9759 - val_loss: 2.5875e-04 - val_accuracy: 1.0000\n",
            "Epoch 66/150\n",
            "191/191 [==============================] - 4s 21ms/step - loss: 0.1005 - accuracy: 0.9682 - val_loss: 0.0947 - val_accuracy: 0.9779\n",
            "Epoch 67/150\n",
            "191/191 [==============================] - 4s 22ms/step - loss: 0.1077 - accuracy: 0.9661 - val_loss: 0.0166 - val_accuracy: 0.9931\n",
            "Epoch 68/150\n",
            "191/191 [==============================] - 4s 23ms/step - loss: 0.0834 - accuracy: 0.9722 - val_loss: 0.0035 - val_accuracy: 0.9992\n",
            "Epoch 69/150\n",
            "191/191 [==============================] - 4s 21ms/step - loss: 0.0654 - accuracy: 0.9794 - val_loss: 3.2227e-04 - val_accuracy: 1.0000\n",
            "Epoch 70/150\n",
            "191/191 [==============================] - 4s 21ms/step - loss: 0.0682 - accuracy: 0.9750 - val_loss: 5.2018e-04 - val_accuracy: 1.0000\n",
            "Epoch 71/150\n",
            "191/191 [==============================] - 4s 21ms/step - loss: 0.0568 - accuracy: 0.9799 - val_loss: 7.2638e-05 - val_accuracy: 1.0000\n",
            "Epoch 72/150\n",
            "191/191 [==============================] - 4s 21ms/step - loss: 0.0509 - accuracy: 0.9813 - val_loss: 7.9127e-05 - val_accuracy: 1.0000\n",
            "Epoch 73/150\n",
            "191/191 [==============================] - 4s 21ms/step - loss: 0.0678 - accuracy: 0.9764 - val_loss: 5.4314e-04 - val_accuracy: 1.0000\n",
            "Epoch 74/150\n",
            "191/191 [==============================] - 4s 21ms/step - loss: 0.0478 - accuracy: 0.9815 - val_loss: 1.0407e-04 - val_accuracy: 1.0000\n",
            "Epoch 75/150\n",
            "191/191 [==============================] - 4s 21ms/step - loss: 0.1252 - accuracy: 0.9650 - val_loss: 0.0107 - val_accuracy: 0.9977\n",
            "Epoch 76/150\n",
            "191/191 [==============================] - 4s 21ms/step - loss: 0.0707 - accuracy: 0.9784 - val_loss: 0.0224 - val_accuracy: 0.9924\n",
            "Epoch 77/150\n",
            "191/191 [==============================] - 4s 23ms/step - loss: 0.0563 - accuracy: 0.9815 - val_loss: 1.3269e-05 - val_accuracy: 1.0000\n",
            "Epoch 78/150\n",
            "191/191 [==============================] - 4s 21ms/step - loss: 0.0552 - accuracy: 0.9809 - val_loss: 1.5112e-05 - val_accuracy: 1.0000\n",
            "Epoch 79/150\n",
            "191/191 [==============================] - 4s 21ms/step - loss: 0.0448 - accuracy: 0.9843 - val_loss: 8.6947e-05 - val_accuracy: 1.0000\n",
            "Epoch 80/150\n",
            "191/191 [==============================] - 4s 21ms/step - loss: 0.0374 - accuracy: 0.9866 - val_loss: 4.5728e-04 - val_accuracy: 1.0000\n",
            "Epoch 81/150\n",
            "191/191 [==============================] - 4s 21ms/step - loss: 0.0757 - accuracy: 0.9766 - val_loss: 0.0059 - val_accuracy: 0.9969\n",
            "Epoch 82/150\n",
            "191/191 [==============================] - 4s 21ms/step - loss: 0.0651 - accuracy: 0.9809 - val_loss: 0.0068 - val_accuracy: 0.9985\n",
            "Epoch 83/150\n",
            "191/191 [==============================] - 4s 21ms/step - loss: 0.0497 - accuracy: 0.9813 - val_loss: 2.0035e-04 - val_accuracy: 1.0000\n",
            "Epoch 84/150\n",
            "191/191 [==============================] - 4s 23ms/step - loss: 0.0617 - accuracy: 0.9797 - val_loss: 0.0084 - val_accuracy: 0.9977\n",
            "Epoch 85/150\n",
            "191/191 [==============================] - 4s 23ms/step - loss: 0.0540 - accuracy: 0.9822 - val_loss: 2.5880e-04 - val_accuracy: 1.0000\n",
            "Epoch 86/150\n",
            "191/191 [==============================] - 4s 21ms/step - loss: 0.0470 - accuracy: 0.9822 - val_loss: 0.0078 - val_accuracy: 0.9969\n",
            "Epoch 87/150\n",
            "191/191 [==============================] - 4s 21ms/step - loss: 0.0465 - accuracy: 0.9859 - val_loss: 0.0592 - val_accuracy: 0.9931\n",
            "Epoch 88/150\n",
            "191/191 [==============================] - 4s 21ms/step - loss: 0.0920 - accuracy: 0.9769 - val_loss: 0.0061 - val_accuracy: 0.9977\n",
            "Epoch 89/150\n",
            "191/191 [==============================] - 4s 23ms/step - loss: 0.0954 - accuracy: 0.9748 - val_loss: 0.0012 - val_accuracy: 1.0000\n",
            "Epoch 90/150\n",
            "191/191 [==============================] - 4s 21ms/step - loss: 0.0792 - accuracy: 0.9764 - val_loss: 0.0029 - val_accuracy: 0.9992\n",
            "Epoch 91/150\n",
            "191/191 [==============================] - 4s 22ms/step - loss: 0.0532 - accuracy: 0.9802 - val_loss: 0.0072 - val_accuracy: 0.9969\n",
            "Epoch 92/150\n",
            "191/191 [==============================] - 4s 23ms/step - loss: 0.0554 - accuracy: 0.9809 - val_loss: 3.5856e-04 - val_accuracy: 1.0000\n",
            "Epoch 93/150\n",
            "191/191 [==============================] - 4s 23ms/step - loss: 0.0490 - accuracy: 0.9830 - val_loss: 6.6811e-04 - val_accuracy: 1.0000\n",
            "Epoch 94/150\n",
            "191/191 [==============================] - 4s 23ms/step - loss: 0.0554 - accuracy: 0.9815 - val_loss: 0.0068 - val_accuracy: 0.9977\n",
            "Epoch 95/150\n",
            "191/191 [==============================] - 4s 21ms/step - loss: 0.0491 - accuracy: 0.9823 - val_loss: 1.5353e-04 - val_accuracy: 1.0000\n",
            "Epoch 96/150\n",
            "191/191 [==============================] - 4s 22ms/step - loss: 0.0503 - accuracy: 0.9830 - val_loss: 2.9233e-05 - val_accuracy: 1.0000\n",
            "Epoch 97/150\n",
            "191/191 [==============================] - 4s 21ms/step - loss: 0.0936 - accuracy: 0.9733 - val_loss: 0.0021 - val_accuracy: 0.9992\n",
            "Epoch 98/150\n",
            "191/191 [==============================] - 4s 21ms/step - loss: 0.0552 - accuracy: 0.9843 - val_loss: 0.0028 - val_accuracy: 0.9992\n",
            "Epoch 99/150\n",
            "191/191 [==============================] - 4s 21ms/step - loss: 0.0516 - accuracy: 0.9848 - val_loss: 1.0353e-04 - val_accuracy: 1.0000\n",
            "Epoch 100/150\n",
            "191/191 [==============================] - 4s 21ms/step - loss: 0.0483 - accuracy: 0.9861 - val_loss: 4.1004e-05 - val_accuracy: 1.0000\n",
            "Epoch 101/150\n",
            "191/191 [==============================] - 4s 21ms/step - loss: 0.0382 - accuracy: 0.9858 - val_loss: 2.3092e-06 - val_accuracy: 1.0000\n",
            "Epoch 102/150\n",
            "191/191 [==============================] - 4s 21ms/step - loss: 0.0562 - accuracy: 0.9828 - val_loss: 4.9754e-05 - val_accuracy: 1.0000\n",
            "Epoch 103/150\n",
            "191/191 [==============================] - 4s 21ms/step - loss: 0.0465 - accuracy: 0.9835 - val_loss: 2.1068e-05 - val_accuracy: 1.0000\n",
            "Epoch 104/150\n",
            "191/191 [==============================] - 4s 21ms/step - loss: 0.0587 - accuracy: 0.9809 - val_loss: 0.0011 - val_accuracy: 0.9992\n",
            "Epoch 105/150\n",
            "191/191 [==============================] - 4s 23ms/step - loss: 0.0905 - accuracy: 0.9746 - val_loss: 0.0015 - val_accuracy: 0.9992\n",
            "Epoch 106/150\n",
            "191/191 [==============================] - 4s 22ms/step - loss: 0.0628 - accuracy: 0.9791 - val_loss: 2.4203e-04 - val_accuracy: 1.0000\n",
            "Epoch 107/150\n",
            "191/191 [==============================] - 4s 21ms/step - loss: 0.0542 - accuracy: 0.9854 - val_loss: 3.1158e-04 - val_accuracy: 1.0000\n",
            "Epoch 108/150\n",
            "191/191 [==============================] - 4s 21ms/step - loss: 0.0549 - accuracy: 0.9817 - val_loss: 0.0055 - val_accuracy: 0.9962\n",
            "Epoch 109/150\n",
            "191/191 [==============================] - 4s 21ms/step - loss: 0.0522 - accuracy: 0.9838 - val_loss: 1.1493e-04 - val_accuracy: 1.0000\n",
            "Epoch 110/150\n",
            "191/191 [==============================] - 4s 21ms/step - loss: 0.0494 - accuracy: 0.9854 - val_loss: 5.0699e-04 - val_accuracy: 1.0000\n",
            "Epoch 111/150\n",
            "191/191 [==============================] - 4s 21ms/step - loss: 0.0499 - accuracy: 0.9846 - val_loss: 0.0279 - val_accuracy: 0.9962\n",
            "Epoch 112/150\n",
            "191/191 [==============================] - 4s 21ms/step - loss: 0.0575 - accuracy: 0.9827 - val_loss: 0.0036 - val_accuracy: 0.9985\n",
            "Epoch 113/150\n",
            "191/191 [==============================] - 4s 21ms/step - loss: 0.0473 - accuracy: 0.9851 - val_loss: 3.4411e-04 - val_accuracy: 1.0000\n",
            "Epoch 114/150\n",
            "191/191 [==============================] - 4s 21ms/step - loss: 0.0514 - accuracy: 0.9843 - val_loss: 0.0054 - val_accuracy: 0.9985\n",
            "Epoch 115/150\n",
            "191/191 [==============================] - 4s 21ms/step - loss: 0.0666 - accuracy: 0.9815 - val_loss: 6.1275e-05 - val_accuracy: 1.0000\n",
            "Epoch 116/150\n",
            "191/191 [==============================] - 4s 21ms/step - loss: 0.0536 - accuracy: 0.9848 - val_loss: 0.0091 - val_accuracy: 0.9977\n",
            "Epoch 117/150\n",
            "191/191 [==============================] - 4s 22ms/step - loss: 0.0410 - accuracy: 0.9849 - val_loss: 1.7874e-05 - val_accuracy: 1.0000\n",
            "Epoch 118/150\n",
            "191/191 [==============================] - 4s 21ms/step - loss: 0.0306 - accuracy: 0.9899 - val_loss: 8.5357e-04 - val_accuracy: 0.9992\n",
            "Epoch 119/150\n",
            "191/191 [==============================] - 4s 22ms/step - loss: 0.0484 - accuracy: 0.9872 - val_loss: 1.6997e-04 - val_accuracy: 1.0000\n",
            "Epoch 120/150\n",
            "191/191 [==============================] - 4s 21ms/step - loss: 0.0887 - accuracy: 0.9786 - val_loss: 1.8440e-04 - val_accuracy: 1.0000\n",
            "Epoch 121/150\n",
            "191/191 [==============================] - 4s 21ms/step - loss: 0.0488 - accuracy: 0.9856 - val_loss: 5.8310e-06 - val_accuracy: 1.0000\n",
            "Epoch 122/150\n",
            "191/191 [==============================] - 4s 23ms/step - loss: 0.0371 - accuracy: 0.9874 - val_loss: 6.7769e-06 - val_accuracy: 1.0000\n",
            "Epoch 123/150\n",
            "191/191 [==============================] - 4s 21ms/step - loss: 0.0373 - accuracy: 0.9890 - val_loss: 0.0044 - val_accuracy: 0.9977\n",
            "Epoch 124/150\n",
            "191/191 [==============================] - 4s 21ms/step - loss: 0.0491 - accuracy: 0.9848 - val_loss: 4.3402e-04 - val_accuracy: 1.0000\n",
            "Epoch 125/150\n",
            "191/191 [==============================] - 4s 22ms/step - loss: 0.0351 - accuracy: 0.9866 - val_loss: 1.7088e-04 - val_accuracy: 1.0000\n",
            "Epoch 126/150\n",
            "191/191 [==============================] - 4s 21ms/step - loss: 0.0672 - accuracy: 0.9802 - val_loss: 0.0066 - val_accuracy: 0.9969\n",
            "Epoch 127/150\n",
            "191/191 [==============================] - 4s 21ms/step - loss: 0.0407 - accuracy: 0.9864 - val_loss: 2.8767e-04 - val_accuracy: 1.0000\n",
            "Epoch 128/150\n",
            "191/191 [==============================] - 4s 22ms/step - loss: 0.0492 - accuracy: 0.9838 - val_loss: 0.0143 - val_accuracy: 0.9992\n",
            "Epoch 129/150\n",
            "191/191 [==============================] - 4s 21ms/step - loss: 0.0502 - accuracy: 0.9848 - val_loss: 9.8395e-04 - val_accuracy: 0.9992\n",
            "Epoch 130/150\n",
            "191/191 [==============================] - 4s 21ms/step - loss: 0.0400 - accuracy: 0.9861 - val_loss: 9.8635e-04 - val_accuracy: 1.0000\n",
            "Epoch 131/150\n",
            "191/191 [==============================] - 4s 22ms/step - loss: 0.0667 - accuracy: 0.9809 - val_loss: 4.3290e-05 - val_accuracy: 1.0000\n",
            "Epoch 132/150\n",
            "191/191 [==============================] - 4s 21ms/step - loss: 0.0488 - accuracy: 0.9843 - val_loss: 6.6410e-04 - val_accuracy: 0.9992\n",
            "Epoch 133/150\n",
            "191/191 [==============================] - 4s 22ms/step - loss: 0.0432 - accuracy: 0.9853 - val_loss: 0.0011 - val_accuracy: 0.9992\n",
            "Epoch 134/150\n",
            "191/191 [==============================] - 4s 21ms/step - loss: 0.0430 - accuracy: 0.9872 - val_loss: 6.2946e-06 - val_accuracy: 1.0000\n",
            "Epoch 135/150\n",
            "191/191 [==============================] - 4s 21ms/step - loss: 0.0396 - accuracy: 0.9867 - val_loss: 3.3668e-06 - val_accuracy: 1.0000\n",
            "Epoch 136/150\n",
            "191/191 [==============================] - 4s 21ms/step - loss: 0.0392 - accuracy: 0.9874 - val_loss: 0.0088 - val_accuracy: 0.9969\n",
            "Epoch 137/150\n",
            "191/191 [==============================] - 4s 21ms/step - loss: 0.0622 - accuracy: 0.9827 - val_loss: 6.7453e-05 - val_accuracy: 1.0000\n",
            "Epoch 138/150\n",
            "191/191 [==============================] - 4s 21ms/step - loss: 0.0822 - accuracy: 0.9751 - val_loss: 4.1753e-05 - val_accuracy: 1.0000\n",
            "Epoch 139/150\n",
            "191/191 [==============================] - 4s 21ms/step - loss: 0.0377 - accuracy: 0.9871 - val_loss: 8.8348e-05 - val_accuracy: 1.0000\n",
            "Epoch 140/150\n",
            "191/191 [==============================] - 4s 22ms/step - loss: 0.0425 - accuracy: 0.9851 - val_loss: 1.3814e-04 - val_accuracy: 1.0000\n",
            "Epoch 141/150\n",
            "191/191 [==============================] - 4s 22ms/step - loss: 0.0400 - accuracy: 0.9872 - val_loss: 7.3877e-05 - val_accuracy: 1.0000\n",
            "Epoch 142/150\n",
            "191/191 [==============================] - 4s 22ms/step - loss: 0.0377 - accuracy: 0.9871 - val_loss: 1.3922e-05 - val_accuracy: 1.0000\n",
            "Epoch 143/150\n",
            "191/191 [==============================] - 4s 21ms/step - loss: 0.0409 - accuracy: 0.9874 - val_loss: 1.9071e-05 - val_accuracy: 1.0000\n",
            "Epoch 144/150\n",
            "191/191 [==============================] - 4s 21ms/step - loss: 0.0321 - accuracy: 0.9887 - val_loss: 1.2110e-05 - val_accuracy: 1.0000\n",
            "Epoch 145/150\n",
            "191/191 [==============================] - 4s 21ms/step - loss: 0.0344 - accuracy: 0.9890 - val_loss: 0.0047 - val_accuracy: 0.9985\n",
            "Epoch 146/150\n",
            "191/191 [==============================] - 4s 21ms/step - loss: 0.0870 - accuracy: 0.9791 - val_loss: 4.9662e-05 - val_accuracy: 1.0000\n",
            "Epoch 147/150\n",
            "191/191 [==============================] - 4s 21ms/step - loss: 0.0390 - accuracy: 0.9859 - val_loss: 1.1398e-05 - val_accuracy: 1.0000\n",
            "Epoch 148/150\n",
            "191/191 [==============================] - 4s 21ms/step - loss: 0.0603 - accuracy: 0.9827 - val_loss: 9.5586e-04 - val_accuracy: 1.0000\n",
            "Epoch 149/150\n",
            "191/191 [==============================] - 4s 21ms/step - loss: 0.0414 - accuracy: 0.9881 - val_loss: 0.0245 - val_accuracy: 0.9939\n",
            "Epoch 150/150\n",
            "191/191 [==============================] - 4s 21ms/step - loss: 0.0366 - accuracy: 0.9876 - val_loss: 8.1833e-06 - val_accuracy: 1.0000\n"
          ]
        }
      ],
      "source": [
        "results = model.fit(\n",
        "    x=X_train,\n",
        "    y=y_train,\n",
        "    batch_size=32,\n",
        "    epochs=150,\n",
        "    validation_data=(X_val,y_val),\n",
        ")"
      ]
    },
    {
      "cell_type": "code",
      "execution_count": null,
      "metadata": {
        "colab": {
          "base_uri": "https://localhost:8080/",
          "height": 279
        },
        "id": "miiOX532PBVq",
        "outputId": "6db4b56b-f630-416b-f211-099af7b3f4d0"
      },
      "outputs": [
        {
          "output_type": "display_data",
          "data": {
            "text/plain": [
              "<Figure size 432x288 with 1 Axes>"
            ],
            "image/png": "[encoded data removed]"
          },
          "metadata": {
            "needs_background": "light"
          }
        }
      ],
      "source": [
        "plt.plot(results.history[\"loss\"], label=\"loss\")\n",
        "plt.plot(results.history[\"val_loss\"], label=\"val_loss\")\n",
        "\n",
        "plt.xlabel(\"Epoch\")\n",
        "plt.ylabel(\"Loss\")\n",
        "\n",
        "plt.legend()\n",
        "\n",
        "plt.show()"
      ]
    },
    {
      "cell_type": "code",
      "execution_count": null,
      "metadata": {
        "colab": {
          "base_uri": "https://localhost:8080/",
          "height": 279
        },
        "id": "vMET182fPaJZ",
        "outputId": "e763e6d5-49a7-4e14-ff68-c1e73e6471c4"
      },
      "outputs": [
        {
          "output_type": "display_data",
          "data": {
            "text/plain": [
              "<Figure size 432x288 with 1 Axes>"
            ],
            "image/png": "[encoded data removed]"
          },
          "metadata": {
            "needs_background": "light"
          }
        }
      ],
      "source": [
        "plt.plot(results.history[\"accuracy\"], label=\"Accuracy\")\n",
        "\n",
        "plt.plot(results.history[\"val_accuracy\"], label=\"Val_accuracy\")\n",
        "\n",
        "plt.xlabel(\"Epoch\")\n",
        "plt.ylabel(\"Accuracy\")\n",
        "\n",
        "plt.legend()\n",
        "\n",
        "plt.show()"
      ]
    },
    {
      "cell_type": "code",
      "execution_count": null,
      "metadata": {
        "colab": {
          "base_uri": "https://localhost:8080/"
        },
        "id": "Xcywjqp0Pl5U",
        "outputId": "1194c95f-f1a2-45a8-9e1d-13ed4b657c53"
      },
      "outputs": [
        {
          "output_type": "stream",
          "name": "stdout",
          "text": [
            "41/41 [==============================] - 0s 10ms/step - loss: 8.1833e-06 - accuracy: 1.0000\n"
          ]
        },
        {
          "output_type": "execute_result",
          "data": {
            "text/plain": [
              "[8.183276804629713e-06, 1.0]"
            ]
          },
          "metadata": {},
          "execution_count": 20
        }
      ],
      "source": [
        "model.evaluate(X_test, y_test)"
      ]
    },
    {
      "cell_type": "code",
      "execution_count": 27,
      "metadata": {
        "colab": {
          "base_uri": "https://localhost:8080/"
        },
        "id": "ozB4fxFvQE7P",
        "outputId": "8d81713c-9114-420c-91e9-0f0fd5ca4435"
      },
      "outputs": [
        {
          "output_type": "stream",
          "name": "stdout",
          "text": [
            "This image belongs to class Dog Bark with 1.0 probability %\n"
          ]
        }
      ],
      "source": [
        "path=glob(\"/content/drive/MyDrive/spectrograms/3/*.png\")\n",
        "\n",
        "image=cv2.imread(path[32])\n",
        "gray= cv2.cvtColor(image, cv2.COLOR_BGR2GRAY)\n",
        "resized_img = cv2.resize(gray,(128,128))\n",
        "normalized_img=resized_img/255\n",
        "\n",
        "prediction_result = model.predict(normalized_img.reshape(1,128,128))\n",
        "\n",
        "predicted_class = classes[prediction_result.argmax()]\n",
        "predicted_probability = prediction_result.max()\n",
        "print(f\"This image belongs to class {predicted_class} with {predicted_probability} probability %\")"
      ]
    }
  ],
  "metadata": {
    "accelerator": "GPU",
    "colab": {
      "collapsed_sections": [],
      "provenance": [],
      "mount_file_id": "1B44x_a-8keJmHHYInpOxjOa5hx9NbGVw",
      "authorship_tag": "ABX9TyNkZJtoyIXzyQ0bqlnp5Pc/",
      "include_colab_link": true
    },
    "kernelspec": {
      "display_name": "Python 3",
      "name": "python3"
    },
    "language_info": {
      "name": "python"
    }
  },
  "nbformat": 4,
  "nbformat_minor": 0
}