{
  "nbformat": 4,
  "nbformat_minor": 0,
  "metadata": {
    "colab": {
      "provenance": [],
      "collapsed_sections": [],
      "mount_file_id": "1Bf7O3xROUvL-h9SBbzqSliWQLS1-pcG2",
      "authorship_tag": "ABX9TyMzv1rjZ1O/RrFG5fP1b4JC",
      "include_colab_link": true
    },
    "kernelspec": {
      "name": "python3",
      "display_name": "Python 3"
    },
    "language_info": {
      "name": "python"
    }
  },
  "cells": [
    {
      "cell_type": "markdown",
      "metadata": {
        "id": "view-in-github",
        "colab_type": "text"
      },
      "source": [
        "<a href=\"https://colab.research.google.com/github/Kuroin/Urban-Sound-Classifier-with-CNN/blob/main/spectrogram_preprocess.ipynb\" target=\"_parent\"><img src=\"https://colab.research.google.com/assets/colab-badge.svg\" alt=\"Open In Colab\"/></a>"
      ]
    },
    {
      "cell_type": "markdown",
      "source": [
        "Gerekli kütüphaneleri projemize ekledik"
      ],
      "metadata": {
        "id": "v_8D8ZCdNDQu"
      }
    },
    {
      "cell_type": "code",
      "execution_count": null,
      "metadata": {
        "id": "dxbytXA_OFXE"
      },
      "outputs": [],
      "source": [
        "from tensorflow import keras\n",
        "from tensorflow.keras import layers\n",
        "import tensorflow as tf\n",
        "import numpy as np\n",
        "from glob import glob\n",
        "import pickle\n",
        "import cv2\n"
      ]
    },
    {
      "cell_type": "markdown",
      "source": [
        "Verilerimizin yolunu belirttik"
      ],
      "metadata": {
        "id": "ll-YcP4ANIhM"
      }
    },
    {
      "cell_type": "code",
      "source": [
        "spectograms_path=\"/content/drive/MyDrive/spectrograms\"\n",
        "\n",
        "training_data=[]"
      ],
      "metadata": {
        "id": "8hJkkNJghVdD"
      },
      "execution_count": null,
      "outputs": []
    },
    {
      "cell_type": "markdown",
      "source": [
        "İlk fonksiyonumuzda resmimizi alıp grayscale uyguladık.\n",
        "İkinci fonksiyonumuzda ise grayscale uygulanmış resmimizi yeniden boyutlandırdık ve değerlerimizi 0 ve 1 arasına çektik."
      ],
      "metadata": {
        "id": "rQIB8YwVNPW6"
      }
    },
    {
      "cell_type": "code",
      "source": [
        "def grayscale_with_opencv(path):\n",
        "  image = cv2.imread(path)\t\n",
        "  gray = cv2.cvtColor(image, cv2.COLOR_BGR2GRAY)\n",
        "  return gray\n",
        "\n",
        "def resizing_and_normalization_with_opencv(img):\n",
        "  resized_img = cv2.resize(img,(128,128))\n",
        "  normalized_img=resized_img/255\n",
        "  return normalized_img"
      ],
      "metadata": {
        "id": "BMDX6C6z6Fxj"
      },
      "execution_count": null,
      "outputs": []
    },
    {
      "cell_type": "markdown",
      "source": [
        "Burada tüm resimlere yukarıda oluşturduğumuz fonksiyonları uyguladık ve eğitim adlı listemize ekledik."
      ],
      "metadata": {
        "id": "Enl__EeuNpYD"
      }
    },
    {
      "cell_type": "code",
      "source": [
        "files = glob(spectograms_path+\"/*/*.png\")\n",
        "i=0\n",
        "while len(files)>i:\n",
        "  label = str(files[i])[len(spectograms_path)+1:len(spectograms_path)+2]\n",
        "  image=grayscale_with_opencv(files[i])\n",
        "  image=resizing_and_normalization_with_opencv(image)\n",
        "  training_data.append([image,label])\n",
        "  i+=1\n"
      ],
      "metadata": {
        "id": "DIbOGeX4CBoE"
      },
      "execution_count": null,
      "outputs": []
    },
    {
      "cell_type": "markdown",
      "source": [
        "Eğitim adlı listemizi Train,Test,Validation adı altında üç'e böldük.(%80-%10-%10)"
      ],
      "metadata": {
        "id": "bdG86cWgNyO5"
      }
    },
    {
      "cell_type": "code",
      "source": [
        "X_train = [training_data[i][0] for i in range(len(training_data[:6110]))]\n",
        "y_train = [training_data[i][1] for i in range(len(training_data[:6110]))]\n",
        "X_test = [training_data[i][0] for i in range(len(training_data[6110:7421]))]\n",
        "y_test = [training_data[i][1] for i in range(len(training_data[6110:7421]))]\n",
        "X_val = [training_data[i][0] for i in range(len(training_data[7421:]))]\n",
        "y_val = [training_data[i][1] for i in range(len(training_data[7421:]))]"
      ],
      "metadata": {
        "id": "iqM-G_3kG9_q"
      },
      "execution_count": null,
      "outputs": []
    },
    {
      "cell_type": "markdown",
      "source": [
        "Burada ise böldüğümüz listeleri binary olarak bilgisayarımıza kayıt ediyoruz."
      ],
      "metadata": {
        "id": "BnUfJYPyN7b0"
      }
    },
    {
      "cell_type": "code",
      "source": [
        "with open('X_train.data', 'wb') as f:\n",
        "  pickle.dump(X_train,f)\n",
        "\n",
        "with open('y_train.data', 'wb') as f:\n",
        "  pickle.dump(y_train,f)\n",
        "\n",
        "with open('X_test.data', 'wb') as f:\n",
        "  pickle.dump(X_test,f)\n",
        "\n",
        "with open('y_test.data', 'wb') as f:\n",
        "  pickle.dump(y_test,f)\n",
        "\n",
        "with open('X_val.data', 'wb') as f:\n",
        "  pickle.dump(X_val,f)\n",
        "\n",
        "with open('y_val.data', 'wb') as f:\n",
        "  pickle.dump(y_val,f)"
      ],
      "metadata": {
        "id": "bHSSm-IhYTuJ"
      },
      "execution_count": null,
      "outputs": []
    }
  ]
}